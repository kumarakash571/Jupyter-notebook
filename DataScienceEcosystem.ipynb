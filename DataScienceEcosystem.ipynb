{
 "cells": [
  {
   "cell_type": "markdown",
   "id": "d7b0a14c-8ba9-4bc0-8833-9b964fe6027e",
   "metadata": {},
   "source": [
    "# DataScienceEcosystem"
   ]
  },
  {
   "cell_type": "markdown",
   "id": "ad1fb160-be3c-4333-866d-2deafe79f98c",
   "metadata": {},
   "source": [
    "### This is practical graded lab . getting familiar with jupyter notebook\n",
    "### start of jupyter "
   ]
  },
  {
   "cell_type": "markdown",
   "id": "9ad99981-3da0-4742-8c8f-8ee7f99b77d7",
   "metadata": {},
   "source": [
    "### List of data science languages\n",
    "#### Python\n",
    "#### R\n",
    "#### SQL\n",
    "#### Java\n",
    "#### Julia\n",
    "#### Scala\n",
    "#### C/C++\n",
    "#### JavaScript\n",
    "#### Swift\n",
    "#### Go\n",
    "#### MATLAB\n",
    "#### SAS"
   ]
  },
  {
   "cell_type": "markdown",
   "id": "c1e1fd9b-f7b8-4276-9bcf-288483509acd",
   "metadata": {},
   "source": [
    "## list of ds libraries\n",
    "#### tenserflow\n",
    "#### numby\n",
    "#### pandas\n",
    "#### scipy\n",
    "#### Matplotlib"
   ]
  },
  {
   "cell_type": "markdown",
   "id": "76da7471-ca21-492d-bd52-c29840b15f23",
   "metadata": {},
   "source": [
    "## list of ds tools\n",
    "#### Tableu\n",
    "#### SAS\n",
    "#### Apache spark\n",
    "#### Matlab\n",
    "#### Python\n",
    "#### R"
   ]
  },
  {
   "cell_type": "markdown",
   "id": "60f458fa-0687-4f5b-8df7-ba4e22919138",
   "metadata": {},
   "source": [
    "## List of arithmetic expressions\n",
    "  ### + ADD\n",
    "  ### - Substraction\n",
    "  ### * Multiply\n",
    "  ### \\ Division\n",
    "  ### % percentage"
   ]
  },
  {
   "cell_type": "markdown",
   "id": "dc37be4f-ef26-46b0-8887-840e794da478",
   "metadata": {},
   "source": [
    "## multiplyandaddintegers"
   ]
  },
  {
   "cell_type": "code",
   "execution_count": 6,
   "id": "e3c2c0d5-df03-44f7-ab77-4352aa0e40b5",
   "metadata": {},
   "outputs": [
    {
     "name": "stdout",
     "output_type": "stream",
     "text": [
      "addition : 57\n",
      "Multiplication : 782\n"
     ]
    }
   ],
   "source": [
    "a = 23\n",
    "b= 34\n",
    "c= a+b\n",
    "d = a*b\n",
    "print(\"addition :\", c)\n",
    "print(\"Multiplication :\", d)\n",
    "\n"
   ]
  },
  {
   "cell_type": "markdown",
   "id": "b88341ba-670d-4c8b-8fa8-d0a8a9662493",
   "metadata": {},
   "source": [
    "## hourstominutes"
   ]
  },
  {
   "cell_type": "code",
   "execution_count": 7,
   "id": "a95bd9b6-0de9-4e35-a50f-0ac97268438a",
   "metadata": {},
   "outputs": [
    {
     "name": "stdout",
     "output_type": "stream",
     "text": [
      "1380\n"
     ]
    }
   ],
   "source": [
    "hours = 23\n",
    "minutes = hours * 60\n",
    "print(minutes)"
   ]
  },
  {
   "cell_type": "markdown",
   "id": "040ba88f-b147-4056-a0b5-447fd46fc018",
   "metadata": {},
   "source": [
    "## Objectives\n",
    "\n",
    "### Prediction (prognosticating a value from inputs)\n",
    "### Sorting (e.g., into spam or non-spam)\n",
    "### Recommendations (such as those from Netflix and Amazon)\n",
    "### Identification and grouping of patterns (e.g., classification of unknown groups)\n",
    "### detection of anomalies, such as fraud (Image, text, audio, video, facial,…) recognition\n",
    "### Insights that can be put to use (via dashboards, reports, visualizations, etc.)\n",
    "### Automated procedures and decision-making, such as the approval of credit cards\n"
   ]
  },
  {
   "cell_type": "markdown",
   "id": "d53870d4-b29c-4654-9253-fbf11267b4da",
   "metadata": {},
   "source": [
    "## Authors\n",
    "\n",
    "### Ben Hur: Lewis Wallace\t\n",
    "### Baburnama: Babur\t\n",
    "### Alice in Wonderland: Lewis Carrol\n",
    "### Arthashastra: Kautilya\t\r\n"
   ]
  },
  {
   "cell_type": "code",
   "execution_count": null,
   "id": "c88e7411-445c-4d5d-80cb-4dc1df74914c",
   "metadata": {},
   "outputs": [],
   "source": []
  }
 ],
 "metadata": {
  "kernelspec": {
   "display_name": "Python 3 (ipykernel)",
   "language": "python",
   "name": "python3"
  },
  "language_info": {
   "codemirror_mode": {
    "name": "ipython",
    "version": 3
   },
   "file_extension": ".py",
   "mimetype": "text/x-python",
   "name": "python",
   "nbconvert_exporter": "python",
   "pygments_lexer": "ipython3",
   "version": "3.12.1"
  }
 },
 "nbformat": 4,
 "nbformat_minor": 5
}
